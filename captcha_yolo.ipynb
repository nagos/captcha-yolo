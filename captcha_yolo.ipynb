{
 "cells": [
  {
   "cell_type": "markdown",
   "metadata": {},
   "source": [
    "# Captcha recognition with Deep learning"
   ]
  },
  {
   "cell_type": "code",
   "execution_count": 1,
   "metadata": {},
   "outputs": [
    {
     "name": "stderr",
     "output_type": "stream",
     "text": [
      "Using TensorFlow backend.\n"
     ]
    }
   ],
   "source": [
    "from keras.models import Sequential, Model\n",
    "from keras.layers import Conv2D, MaxPooling2D, GlobalAveragePooling2D, Reshape\n",
    "from keras.layers import Activation, Dropout, AveragePooling2D\n",
    "from keras.preprocessing.image import load_img, img_to_array\n",
    "from keras.optimizers import Adam\n",
    "from keras import backend as K\n",
    "import tensorflow as tf\n",
    "from keras.models import load_model\n",
    "from keras.callbacks import EarlyStopping\n",
    "from keras.losses import mean_squared_error\n",
    "import PIL\n",
    "import matplotlib.pyplot as plt\n",
    "import numpy\n",
    "from matplotlib.pyplot import imshow,figure, imshow, axis\n",
    "from matplotlib.image import imread\n",
    "from image import ImageCaptcha\n",
    "import os\n",
    "import sys\n",
    "%matplotlib inline\n",
    "numpy.set_printoptions(precision=2)"
   ]
  },
  {
   "cell_type": "code",
   "execution_count": 19,
   "metadata": {},
   "outputs": [],
   "source": [
    "img_width, img_height = 110, 40\n",
    "epochs = 100\n",
    "batch_size = 64\n",
    "digit_width = 20\n",
    "digit_height = 40\n",
    "\n",
    "alpha_conf = 1\n",
    "alpha_class = 1\n",
    "alpha_shift = 1\n",
    "\n",
    "positions = 13"
   ]
  },
  {
   "cell_type": "code",
   "execution_count": 3,
   "metadata": {},
   "outputs": [],
   "source": [
    "image = ImageCaptcha(width=img_width, height=img_height, font_sizes=[40, 30], fonts=[\n",
    "    \"/usr/share/fonts/truetype/dejavu/DejaVuSansMono.ttf\", \n",
    "    \"/usr/share/fonts/truetype/dejavu/DejaVuSansMono-BoldOblique.ttf\",\n",
    "    \"/usr/share/fonts/truetype/ubuntu-font-family/UbuntuMono-R.ttf\",\n",
    "    \"/usr/share/fonts/truetype/ubuntu-font-family/UbuntuMono-BI.ttf\",\n",
    "])\n",
    "position_width = img_width/positions\n",
    "def myGenerator(batch_size, digit_out = 0):\n",
    "    digits = 3\n",
    "    def calc(p, b, d, batch_labels, batch_index):\n",
    "        position_center = position_width*p + position_width/2\n",
    "        digit_offset = numpy.array(b) - position_center\n",
    "        nearest_digit = numpy.argmin(numpy.abs(digit_offset))\n",
    "        nearest_offset = digit_offset[nearest_digit]\n",
    "        if -position_width < nearest_offset < position_width:\n",
    "            v = 1\n",
    "        else:\n",
    "            v = 0\n",
    "        dx = 0.5+(nearest_offset)/position_width/2\n",
    "        dx = numpy.clip(dx, 0, 1)\n",
    "            \n",
    "        batch_labels[batch_index][p][0] = v\n",
    "        batch_labels[batch_index][p][-1] = dx\n",
    "        batch_labels[batch_index][p][1+d[nearest_digit]] = 1\n",
    "\n",
    "    while True:\n",
    "        batch_features = numpy.zeros((batch_size, img_height, img_width, 3))\n",
    "        batch_labels = numpy.zeros((batch_size, positions, 12))\n",
    "        d_out = numpy.zeros((batch_size, digits), dtype=numpy.int8)\n",
    "        img_list = []\n",
    "\n",
    "        for i in range(batch_size):\n",
    "            offset = numpy.random.randint(0, 50)\n",
    "            # generate numbers\n",
    "            d = numpy.random.randint(0, 9+1, digits)\n",
    "            d_out[i] = d\n",
    "            img, b = image.generate_image(\"%d%d%d\" % (d[0], d[1], d[2]), offset=offset)\n",
    "            img_list.append(img)\n",
    "            x = numpy.asarray(img, dtype='float32') / 255\n",
    "            x = numpy.expand_dims(x, axis=0)\n",
    "            batch_features[i] = x\n",
    "            \n",
    "            # calculate ground truth for each possible position\n",
    "            for p in range(positions):\n",
    "                calc(p, b, d, batch_labels, i)\n",
    "            \n",
    "        if(digit_out):\n",
    "            yield batch_features, batch_labels, d_out.tolist(), img_list\n",
    "        else:\n",
    "            yield batch_features, batch_labels"
   ]
  },
  {
   "cell_type": "code",
   "execution_count": 4,
   "metadata": {},
   "outputs": [
    {
     "name": "stdout",
     "output_type": "stream",
     "text": [
      "[[[0.   0.   1.   0.   0.   0.   0.   0.   0.   0.   0.   1.  ]\n",
      "  [1.   0.   1.   0.   0.   0.   0.   0.   0.   0.   0.   0.61]\n",
      "  [1.   0.   0.   0.   0.   0.   0.   1.   0.   0.   0.   0.85]\n",
      "  [1.   0.   0.   0.   0.   0.   0.   1.   0.   0.   0.   0.35]\n",
      "  [1.   0.   0.   0.   1.   0.   0.   0.   0.   0.   0.   0.88]\n",
      "  [1.   0.   0.   0.   1.   0.   0.   0.   0.   0.   0.   0.38]\n",
      "  [0.   0.   0.   0.   1.   0.   0.   0.   0.   0.   0.   0.  ]\n",
      "  [0.   0.   0.   0.   1.   0.   0.   0.   0.   0.   0.   0.  ]\n",
      "  [0.   0.   0.   0.   1.   0.   0.   0.   0.   0.   0.   0.  ]\n",
      "  [0.   0.   0.   0.   1.   0.   0.   0.   0.   0.   0.   0.  ]\n",
      "  [0.   0.   0.   0.   1.   0.   0.   0.   0.   0.   0.   0.  ]\n",
      "  [0.   0.   0.   0.   1.   0.   0.   0.   0.   0.   0.   0.  ]\n",
      "  [0.   0.   0.   0.   1.   0.   0.   0.   0.   0.   0.   0.  ]]]\n"
     ]
    },
    {
     "data": {
      "text/plain": [
       "<matplotlib.image.AxesImage at 0x7febd7472550>"
      ]
     },
     "execution_count": 4,
     "metadata": {},
     "output_type": "execute_result"
    },
    {
     "data": {
      "image/png": "[encoded data removed]",
      "text/plain": [
       "<matplotlib.figure.Figure at 0x7febd7944eb8>"
      ]
     },
     "metadata": {
      "needs_background": "light"
     },
     "output_type": "display_data"
    }
   ],
   "source": [
    "img, b = next(myGenerator(1))\n",
    "print(numpy.round(b,2))\n",
    "imshow(img[0])"
   ]
  },
  {
   "cell_type": "code",
   "execution_count": 5,
   "metadata": {},
   "outputs": [],
   "source": [
    "def custom_loss(y_true, y_pred):\n",
    "    # use only valid positions\n",
    "    mask = tf.to_float(y_true[...,0] > 0)\n",
    "    loss_confidence = mean_squared_error(tf.sigmoid(y_pred[...,0]), y_true[...,0])\n",
    "    loss_category = tf.reduce_sum(mask*mean_squared_error(y_true[...,1:-1], tf.nn.softmax(y_pred[...,1:-1])), axis=-1)\n",
    "    loss_shift = mean_squared_error(y_true[...,-1], mask*tf.sigmoid(y_pred[...,-1]))\n",
    "    loss = alpha_conf*loss_confidence+alpha_class*loss_category + alpha_shift*loss_shift\n",
    "    return loss"
   ]
  },
  {
   "cell_type": "code",
   "execution_count": 6,
   "metadata": {
    "scrolled": true
   },
   "outputs": [
    {
     "name": "stdout",
     "output_type": "stream",
     "text": [
      "_________________________________________________________________\n",
      "Layer (type)                 Output Shape              Param #   \n",
      "=================================================================\n",
      "conv2d_1 (Conv2D)            (None, 40, 110, 8)        224       \n",
      "_________________________________________________________________\n",
      "activation_1 (Activation)    (None, 40, 110, 8)        0         \n",
      "_________________________________________________________________\n",
      "max_pooling2d_1 (MaxPooling2 (None, 20, 55, 8)         0         \n",
      "_________________________________________________________________\n",
      "conv2d_2 (Conv2D)            (None, 20, 55, 16)        1168      \n",
      "_________________________________________________________________\n",
      "activation_2 (Activation)    (None, 20, 55, 16)        0         \n",
      "_________________________________________________________________\n",
      "max_pooling2d_2 (MaxPooling2 (None, 10, 27, 16)        0         \n",
      "_________________________________________________________________\n",
      "conv2d_3 (Conv2D)            (None, 10, 27, 32)        4640      \n",
      "_________________________________________________________________\n",
      "activation_3 (Activation)    (None, 10, 27, 32)        0         \n",
      "_________________________________________________________________\n",
      "max_pooling2d_3 (MaxPooling2 (None, 5, 13, 32)         0         \n",
      "_________________________________________________________________\n",
      "conv2d_4 (Conv2D)            (None, 5, 13, 32)         9248      \n",
      "_________________________________________________________________\n",
      "activation_4 (Activation)    (None, 5, 13, 32)         0         \n",
      "_________________________________________________________________\n",
      "conv2d_5 (Conv2D)            (None, 5, 13, 16)         4624      \n",
      "_________________________________________________________________\n",
      "activation_5 (Activation)    (None, 5, 13, 16)         0         \n",
      "_________________________________________________________________\n",
      "conv2d_6 (Conv2D)            (None, 5, 13, 32)         4640      \n",
      "_________________________________________________________________\n",
      "activation_6 (Activation)    (None, 5, 13, 32)         0         \n",
      "_________________________________________________________________\n",
      "dropout_1 (Dropout)          (None, 5, 13, 32)         0         \n",
      "_________________________________________________________________\n",
      "conv2d_7 (Conv2D)            (None, 5, 13, 12)         396       \n",
      "_________________________________________________________________\n",
      "average_pooling2d_1 (Average (None, 1, 13, 12)         0         \n",
      "_________________________________________________________________\n",
      "reshape_1 (Reshape)          (None, 13, 12)            0         \n",
      "=================================================================\n",
      "Total params: 24,940\n",
      "Trainable params: 24,940\n",
      "Non-trainable params: 0\n",
      "_________________________________________________________________\n"
     ]
    }
   ],
   "source": [
    "if K.image_data_format() == 'channels_first':\n",
    "    input_shape = (3, img_height, img_width)\n",
    "else:\n",
    "    input_shape = (img_height, img_width, 3)\n",
    "\n",
    "model = Sequential()\n",
    "model.add(Conv2D(8, (3, 3), input_shape=input_shape, padding='same'))\n",
    "model.add(Activation('relu'))\n",
    "model.add(MaxPooling2D(pool_size=(2, 2)))\n",
    "\n",
    "model.add(Conv2D(16, (3, 3), input_shape=input_shape, padding='same'))\n",
    "model.add(Activation('relu'))\n",
    "model.add(MaxPooling2D(pool_size=(2, 2)))\n",
    "\n",
    "model.add(Conv2D(32, (3, 3), input_shape=input_shape, padding='same'))\n",
    "model.add(Activation('relu'))\n",
    "model.add(MaxPooling2D(pool_size=(2, 2)))\n",
    "\n",
    "model.add(Conv2D(32, (3, 3), input_shape=input_shape, padding='same'))\n",
    "model.add(Activation('relu'))\n",
    "model.add(Conv2D(16, (3, 3), input_shape=input_shape, padding='same'))\n",
    "model.add(Activation('relu'))\n",
    "model.add(Conv2D(32, (3, 3), input_shape=input_shape, padding='same'))\n",
    "model.add(Activation('relu'))\n",
    "\n",
    "model.add(Dropout(0.5))\n",
    "model.add(Conv2D(12, (1, 1), input_shape=input_shape, padding='same'))\n",
    "model.add(AveragePooling2D(pool_size=(3, 1)))\n",
    "model.add(Reshape((13, 12)))\n",
    "\n",
    "model.summary()"
   ]
  },
  {
   "cell_type": "code",
   "execution_count": 7,
   "metadata": {},
   "outputs": [],
   "source": [
    "es = EarlyStopping(monitor='val_loss', mode='min', verbose=1, patience=5)"
   ]
  },
  {
   "cell_type": "code",
   "execution_count": 8,
   "metadata": {},
   "outputs": [],
   "source": [
    "adam = Adam(lr=1e-3)\n",
    "model.compile(loss=custom_loss,\n",
    "              optimizer=adam)"
   ]
  },
  {
   "cell_type": "code",
   "execution_count": 9,
   "metadata": {},
   "outputs": [],
   "source": [
    "if (os.path.isfile('model_yolo.h5')):\n",
    "    model = load_model('model_yolo.h5', custom_objects={'custom_loss': custom_loss})"
   ]
  },
  {
   "cell_type": "code",
   "execution_count": 10,
   "metadata": {
    "scrolled": true
   },
   "outputs": [
    {
     "name": "stdout",
     "output_type": "stream",
     "text": [
      "Epoch 1/1\n",
      "1562/1562 [==============================] - 176s 112ms/step - loss: 0.2858 - val_loss: 0.2819\n"
     ]
    }
   ],
   "source": [
    "history = model.fit_generator(\n",
    "    myGenerator(batch_size),\n",
    "    steps_per_epoch=100000 // batch_size,\n",
    "    epochs=epochs,\n",
    "    validation_data=myGenerator(batch_size),\n",
    "    validation_steps=30000 // batch_size,\n",
    "    callbacks=[es]\n",
    ")\n"
   ]
  },
  {
   "cell_type": "code",
   "execution_count": 11,
   "metadata": {},
   "outputs": [],
   "source": [
    "model.save(\"model_yolo.h5\")"
   ]
  },
  {
   "cell_type": "code",
   "execution_count": 12,
   "metadata": {},
   "outputs": [],
   "source": [
    "def show_img(img):\n",
    "    imshow(numpy.asarray(img, dtype='float32') / 255) "
   ]
  },
  {
   "cell_type": "code",
   "execution_count": 13,
   "metadata": {},
   "outputs": [],
   "source": [
    "def decode_output(p, boxes_in):\n",
    "    thr = 0.5\n",
    "    thr2 = 10\n",
    "    def get_boxes(a):\n",
    "        boxes = []\n",
    "        idx = numpy.where(a>thr)[0]\n",
    "        while(len(idx)>0):\n",
    "            m = numpy.argmax(a[idx])\n",
    "            m_x = boxes_in[idx[m]]\n",
    "            boxes.append(idx[m])\n",
    "            idx = numpy.delete(idx, numpy.where((boxes_in[idx] < m_x+thr2)&(boxes_in[idx] > m_x-thr2)))\n",
    "        return boxes\n",
    "    a = numpy.full(10, -1)\n",
    "    for d in range(10):\n",
    "        b = get_boxes(p[:, d])\n",
    "        a[b]=d\n",
    "    a = numpy.delete(a, numpy.where(a==-1))\n",
    "    return a.tolist()"
   ]
  },
  {
   "cell_type": "code",
   "execution_count": 14,
   "metadata": {},
   "outputs": [],
   "source": [
    "def decode_output(confidence, box_shift, digit):\n",
    "    thr = 0.5\n",
    "    \n",
    "    ret_dig = []\n",
    "    ret_box = []\n",
    "    \n",
    "    ditits_bb = (box_shift-0.5)*2*position_width + (0.5+numpy.arange(positions))*position_width\n",
    "    \n",
    "    while 1:\n",
    "        max_confidence = numpy.argmax(confidence)\n",
    "        if(confidence[max_confidence] < thr):\n",
    "            break\n",
    "        max_pos = ditits_bb[max_confidence]\n",
    "\n",
    "        ret_dig.append(digit[max_confidence])\n",
    "        ret_box.append(ditits_bb[max_confidence])\n",
    "\n",
    "        merge_box = numpy.where(numpy.abs(ditits_bb-max_pos) < digit_width/2)\n",
    "        confidence[merge_box] = 0\n",
    "    if(len(ret_box)):\n",
    "        ret_box, ret_dig = zip(*sorted(zip(ret_box, ret_dig)))\n",
    "    \n",
    "    return (ret_dig, ret_box)"
   ]
  },
  {
   "cell_type": "code",
   "execution_count": 15,
   "metadata": {},
   "outputs": [],
   "source": [
    "def draw_boxes(img, boxes, digits):\n",
    "    img_out = img.copy()\n",
    "    draw = PIL.ImageDraw.Draw(img_out)\n",
    "    for i in range(len(boxes)):\n",
    "        color = numpy.random.randint(0, 255, 3)\n",
    "        x = boxes[i]\n",
    "        draw.polygon([\n",
    "                (x-digit_width/2, 3), \n",
    "                (x+digit_width/2, 3), \n",
    "                (x+digit_width/2, digit_height-3), \n",
    "                (x-digit_width/2, digit_height-3)\n",
    "            ], \n",
    "            outline=(color[0], color[1], color[2], 0))\n",
    "        draw.text((x-digit_width/2+2, 5), str(digits[i]), fill=(0,0,0,128))\n",
    "    return img_out"
   ]
  },
  {
   "cell_type": "code",
   "execution_count": 16,
   "metadata": {
    "scrolled": true
   },
   "outputs": [
    {
     "name": "stdout",
     "output_type": "stream",
     "text": [
      "digits: (9, 2, 3)\n"
     ]
    },
    {
     "data": {
      "image/png": "[encoded data removed]",
      "text/plain": [
       "<matplotlib.figure.Figure at 0x7feba01d43c8>"
      ]
     },
     "metadata": {
      "needs_background": "light"
     },
     "output_type": "display_data"
    }
   ],
   "source": [
    "img, b, d, img_raw = next(myGenerator(1, 1))\n",
    "prediction = model.predict(img)\n",
    "confidence = K.eval(tf.nn.sigmoid(prediction[0, :, 0]))\n",
    "box_shift = K.eval(tf.nn.sigmoid(prediction[0, :, -1]))\n",
    "digit = K.eval(tf.nn.softmax(prediction[0, :, 1:-1]))\n",
    "digit_predict = numpy.argmax(digit, -1)\n",
    "\n",
    "(digits, digit_pos) = decode_output(confidence, box_shift, digit_predict)\n",
    "img_out = draw_boxes(img_raw[0], digit_pos, digits)\n",
    "print(\"digits:\", digits)\n",
    "show_img(img_out)"
   ]
  },
  {
   "cell_type": "code",
   "execution_count": 18,
   "metadata": {},
   "outputs": [
    {
     "name": "stdout",
     "output_type": "stream",
     "text": [
      "([2, 6, 4], (2, 6, 7))\n",
      "([0, 4, 7], (0, 9, 7))\n",
      "([1, 2, 1], (1, 1))\n",
      "([8, 9, 8], (8, 9, 3))\n",
      "([6, 2, 0], (6, 0))\n",
      "([8, 7, 2], (5, 7, 2))\n",
      "([6, 9, 9], (0, 9, 9))\n",
      "([1, 4, 4], (1, 4))\n",
      "([1, 9, 0], (7, 9, 0))\n",
      "([0, 9, 4], (0, 9, 7))\n",
      "([3, 1, 8], (3, 7, 8))\n",
      "([2, 7, 5], (7, 7, 5))\n",
      "([0, 5, 3], (8, 5, 3))\n",
      "([6, 6, 4], (6, 6, 1))\n",
      "([7, 0, 0], (1, 0, 0))\n",
      "([4, 3, 1], (4, 1))\n",
      "([4, 3, 2], (4, 3))\n",
      "([5, 6, 6], (5, 6))\n",
      "([1, 5, 8], (5, 8))\n",
      "([4, 7, 9], (4, 9))\n",
      "([0, 0, 7], (0, 6, 7))\n",
      "([0, 1, 9], (0, 9))\n",
      "([2, 8, 2], (2, 2))\n",
      "([1, 8, 9], (1, 8, 3))\n",
      "([7, 4, 0], (7, 4, 8))\n",
      "([4, 9, 4], (4, 9, 1))\n",
      "([7, 8, 8], (1, 8, 8))\n",
      "([6, 2, 2], (6, 2))\n",
      "([4, 1, 4], (4, 1))\n",
      "([1, 6, 4], (3, 6, 4))\n",
      "([5, 1, 7], (5, 7, 7))\n",
      "([1, 0, 1], (1, 8, 1))\n",
      "([0, 8, 2], (0, 8, 7))\n",
      "([9, 8, 0], (9, 8, 9))\n",
      "([8, 9, 8], (9, 8))\n",
      "([0, 6, 1], (8, 6, 1))\n",
      "([8, 2, 0], (8, 1, 0))\n",
      "([5, 0, 0], (5, 0, 9))\n",
      "([6, 0, 8], (6, 9, 8))\n",
      "([0, 8, 3], (0, 3))\n",
      "Accuracy 0.9583\n"
     ]
    }
   ],
   "source": [
    "g = myGenerator(batch_size, 1)\n",
    "N = 1000 // batch_size\n",
    "e = 0\n",
    "\n",
    "for i in range(N):\n",
    "    img, b, d, img_raw = next(g)\n",
    "    prediction = model.predict(img)\n",
    "    confidence = K.eval(tf.nn.sigmoid(prediction[:, :, 0]))\n",
    "    box_shift = K.eval(tf.nn.sigmoid(prediction[:, :, -1]))\n",
    "    digit = K.eval(tf.nn.softmax(prediction[:, :, 1:-1]))\n",
    "    digit_predict = numpy.argmax(digit, -1)\n",
    "    \n",
    "    for q in range(batch_size):\n",
    "        (digits, digit_pos) = decode_output(confidence[q], box_shift[q], digit_predict[q])\n",
    "\n",
    "        if(list(d[q])!=list(digits)):\n",
    "            e += 1\n",
    "            print((d[q], digits))\n",
    "print(\"Accuracy %.4f\" % (1-e/(N*batch_size)))"
   ]
  }
 ],
 "metadata": {
  "kernelspec": {
   "display_name": "Python 3",
   "language": "python",
   "name": "python3"
  },
  "language_info": {
   "codemirror_mode": {
    "name": "ipython",
    "version": 3
   },
   "file_extension": ".py",
   "mimetype": "text/x-python",
   "name": "python",
   "nbconvert_exporter": "python",
   "pygments_lexer": "ipython3",
   "version": "3.6.8"
  }
 },
 "nbformat": 4,
 "nbformat_minor": 2
}
