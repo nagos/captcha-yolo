{
 "cells": [
  {
   "cell_type": "code",
   "execution_count": 1,
   "metadata": {},
   "outputs": [],
   "source": [
    "%matplotlib inline"
   ]
  },
  {
   "cell_type": "code",
   "execution_count": 2,
   "metadata": {},
   "outputs": [],
   "source": [
    "import torch\n",
    "from torch import nn\n",
    "from captcha_dataset import CaptchaDataset\n",
    "import matplotlib.pyplot as plt\n",
    "from model import NeuralNetwork\n",
    "from utils import draw_boxes, decode_output"
   ]
  },
  {
   "cell_type": "code",
   "execution_count": 3,
   "metadata": {},
   "outputs": [],
   "source": [
    "img_width, img_height = 110, 40\n",
    "positions = 13\n",
    "digit_width = 20\n",
    "digit_height = 40\n",
    "position_width = img_width/positions\n",
    "MODEL_FILE = \"model.pt\""
   ]
  },
  {
   "cell_type": "code",
   "execution_count": 4,
   "metadata": {},
   "outputs": [
    {
     "data": {
      "text/plain": [
       "<All keys matched successfully>"
      ]
     },
     "execution_count": 4,
     "metadata": {},
     "output_type": "execute_result"
    }
   ],
   "source": [
    "model = NeuralNetwork()\n",
    "checkpoint = torch.load(MODEL_FILE)\n",
    "model.load_state_dict(checkpoint['model_state_dict'])"
   ]
  },
  {
   "cell_type": "code",
   "execution_count": 5,
   "metadata": {},
   "outputs": [],
   "source": [
    "test_data = CaptchaDataset(1, digit_out=1)\n",
    "model.eval()\n",
    "data = test_data[0]\n",
    "x, y, img = data[0], data[1], data[2]\n",
    "with torch.no_grad():\n",
    "    pred = model(x[None, :])\n",
    "    confidence = torch.sigmoid(pred[0,0,0,:])\n",
    "    digit_predict = torch.argmax(nn.functional.softmax(pred[0,1:11,0,:], 0), 0)\n",
    "    box_shift = torch.sigmoid(pred[0,11,0,:])"
   ]
  },
  {
   "cell_type": "code",
   "execution_count": 6,
   "metadata": {},
   "outputs": [
    {
     "data": {
      "text/plain": [
       "<matplotlib.image.AxesImage at 0x7fabac62cba8>"
      ]
     },
     "execution_count": 6,
     "metadata": {},
     "output_type": "execute_result"
    },
    {
     "data": {
      "image/png": "[encoded data removed]",
      "text/plain": [
       "<Figure size 432x288 with 1 Axes>"
      ]
     },
     "metadata": {
      "needs_background": "light"
     },
     "output_type": "display_data"
    }
   ],
   "source": [
    "(digits, digit_pos) = decode_output(confidence, box_shift, digit_predict.numpy(), position_width, positions, digit_width)\n",
    "img_pred = draw_boxes(img, digit_pos, digits, digit_width, digit_height)\n",
    "plt.imshow(img_pred)"
   ]
  },
  {
   "cell_type": "code",
   "execution_count": 7,
   "metadata": {},
   "outputs": [
    {
     "name": "stdout",
     "output_type": "stream",
     "text": [
      "Accuracy 96.7%\n",
      "Accuracy digit count 99.1%\n"
     ]
    }
   ],
   "source": [
    "N=1000\n",
    "model.eval()\n",
    "e = 0\n",
    "e_cnt = 0\n",
    "for i in range(N):\n",
    "    data = test_data[0]\n",
    "    x, y, d = data[0], data[1], data[3]\n",
    "    with torch.no_grad():\n",
    "        pred = model(x[None, :])\n",
    "        confidence = torch.clamp(pred[0,0,0,:], 0, 1)\n",
    "        digit_predict = torch.argmax(nn.functional.softmax(pred[0,1:11,0,:], 0), 0)\n",
    "        box_shift = torch.sigmoid(pred[0,11,0,:])\n",
    "        (digits, digit_pos) = decode_output(confidence, box_shift, digit_predict.numpy(), position_width, positions, digit_width)\n",
    "        if list(digits) != list(d):\n",
    "            e+=1\n",
    "        if len(digits) != len(d):\n",
    "            e_cnt+=1\n",
    "print(f\"Accuracy {100-e/N*100:.1f}%\")\n",
    "print(f\"Accuracy digit count {100-e_cnt/N*100:.1f}%\")"
   ]
  }
 ],
 "metadata": {
  "kernelspec": {
   "display_name": "Python 3",
   "language": "python",
   "name": "python3"
  },
  "language_info": {
   "codemirror_mode": {
    "name": "ipython",
    "version": 3
   },
   "file_extension": ".py",
   "mimetype": "text/x-python",
   "name": "python",
   "nbconvert_exporter": "python",
   "pygments_lexer": "ipython3",
   "version": "3.6.9"
  }
 },
 "nbformat": 4,
 "nbformat_minor": 5
}
